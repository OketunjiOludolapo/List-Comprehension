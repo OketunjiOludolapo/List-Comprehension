{
 "cells": [
  {
   "cell_type": "markdown",
   "metadata": {},
   "source": [
    "# LIST COMPREHENSION\n",
    "List Comprehension is one of the methods of creating of a list. List comprehension makes your code more compact and reader friendly. List Comprehension can be very easy when you understand the syntax with which it works.<br /> I will divide this short class into 3 for easier understanding:\n",
    "* Simple List Comprehension \n",
    "* Intermediate List Comprehension\n",
    "* Advanced List Comprehension<br />\n",
    "\n",
    "\n"
   ]
  },
  {
   "cell_type": "markdown",
   "metadata": {},
   "source": [
    "####          SIMPLE LIST COMPREHENSION\n",
    "\n",
    "Syntax of Simple List Comprehension<br />\n",
    "\n",
    "**<font size=\"3\">[expression for item in iterable]</font>**\n",
    "where:\n",
    "* expression is the computation you want to do e.g x+x or x-y\n",
    "* For is our normal for loop\n",
    "* item is the object in the expression like x or y\n",
    "* iterable is a list,set or any data structure that can return its element one at a time"
   ]
  },
  {
   "cell_type": "markdown",
   "metadata": {},
   "source": [
    "#### Examples\n"
   ]
  },
  {
   "cell_type": "code",
   "execution_count": 1,
   "metadata": {},
   "outputs": [],
   "source": [
    "# Example 1\n"
   ]
  },
  {
   "cell_type": "code",
   "execution_count": 2,
   "metadata": {},
   "outputs": [
    {
     "data": {
      "text/plain": [
       "['b', 'a', 'b', 'y', 'g', 'i', 'r', 'l']"
      ]
     },
     "execution_count": 2,
     "metadata": {},
     "output_type": "execute_result"
    }
   ],
   "source": [
    "[x for x in \"babygirl\"]  # it creates a new list from a string by printing out the string elements individually."
   ]
  },
  {
   "cell_type": "code",
   "execution_count": 4,
   "metadata": {},
   "outputs": [],
   "source": [
    "# Example 2"
   ]
  },
  {
   "cell_type": "code",
   "execution_count": 5,
   "metadata": {},
   "outputs": [
    {
     "data": {
      "text/plain": [
       "[1, 2, 3, 4, 5, 6, 7, 8, 9, 10, 11, 12, 13, 14, 15, 16, 17, 18, 19]"
      ]
     },
     "execution_count": 5,
     "metadata": {},
     "output_type": "execute_result"
    }
   ],
   "source": [
    "[x for x in range(1,20)] # Creating a new list from a range. simple,right?"
   ]
  },
  {
   "cell_type": "code",
   "execution_count": null,
   "metadata": {},
   "outputs": [],
   "source": [
    "# Example 3"
   ]
  },
  {
   "cell_type": "code",
   "execution_count": 11,
   "metadata": {},
   "outputs": [
    {
     "data": {
      "text/plain": [
       "['BABY', 'KEITH', 'PYTHON', 'DATA']"
      ]
     },
     "execution_count": 11,
     "metadata": {},
     "output_type": "execute_result"
    }
   ],
   "source": [
    "a=[\"baby\",\"Keith\",\"Python\",\"Data\"]\n",
    "[x.upper() for x in a]\n",
    "# Changing every element in the list a into capital letter and creating a new list through it"
   ]
  },
  {
   "cell_type": "code",
   "execution_count": null,
   "metadata": {},
   "outputs": [],
   "source": [
    "# Example 4"
   ]
  },
  {
   "cell_type": "code",
   "execution_count": 12,
   "metadata": {},
   "outputs": [
    {
     "data": {
      "text/plain": [
       "[2, 4, 6, 8, 10, 12, 14, 16, 18]"
      ]
     },
     "execution_count": 12,
     "metadata": {},
     "output_type": "execute_result"
    }
   ],
   "source": [
    "a=[1,2,3,4,5,6,7,8,9]\n",
    "[w*2 for w in a] #Creating a new list by multiplying the items in the other list by 2"
   ]
  },
  {
   "cell_type": "code",
   "execution_count": null,
   "metadata": {},
   "outputs": [],
   "source": [
    "# Example 5"
   ]
  },
  {
   "cell_type": "code",
   "execution_count": 19,
   "metadata": {},
   "outputs": [
    {
     "name": "stdout",
     "output_type": "stream",
     "text": [
      "[4, 5, 6, 7, 8, 7, 8, 9, 9, 5, 6, 7, 8, 9, 8, 9, 10, 10, 6, 7, 8, 9, 10, 9, 10, 11, 11, 7, 8, 9, 10, 11, 10, 11, 12, 12, 8, 9, 10, 11, 12, 11, 12, 13, 13, 9, 10, 11, 12, 13, 12, 13, 14, 14, 10, 11, 12, 13, 14, 13, 14, 15, 15, 11, 12, 13, 14, 15, 14, 15, 16, 16, 12, 13, 14, 15, 16, 15, 16, 17, 17]\n"
     ]
    }
   ],
   "source": [
    "a=[1,2,3,4,5,6,7,8,9]\n",
    "b=[3,4,5,6,7,6,7,8,8]\n",
    "c=[x+y for x in a for y in b]\n",
    "print(c)  #This created a list by adding elements in a to b in a matrix style\n",
    "# EXPLANATION\n",
    "\n",
    "# element 1 in list a adds it self to all the element in b first i.e 1+3,1+4,1+5,1+6,etc\n",
    "# then 2 in list b also does the same and adds itself to all the elements in b i.e 2+3,2+4,2+5,2+6,2+7,etc\n",
    "# They do this till the last element of list a "
   ]
  },
  {
   "cell_type": "code",
   "execution_count": 22,
   "metadata": {},
   "outputs": [
    {
     "name": "stdout",
     "output_type": "stream",
     "text": [
      "[4, 6, 8, 10, 12, 12, 14, 16, 17]\n"
     ]
    }
   ],
   "source": [
    "a=[1,2,3,4,5,6,7,8,9]\n",
    "b=[3,4,5,6,7,6,7,8,8]\n",
    "c=[a[i] +b [i] for i in range(0,len(a))]  # This will perform a normal addition and create a new list c.\n",
    "# a[i] +b[i] means that add the first element of a to only the first element of b\n",
    "print(c)"
   ]
  },
  {
   "cell_type": "markdown",
   "metadata": {},
   "source": [
    "### INTERMEDIATE LIST COMPREHENSION\n",
    "\n",
    "Intermediate and advanced list comprehension has to do with involving conditional statement in the simple list syntax. The conditional statement makes all the difference between the simple list comprehension and advanced list comprehension.\n",
    "\n",
    "Syntax of full List Comprehension<br />\n",
    "\n",
    "**<font size=\"3\">(1) [expression for item in iterable if conditional statement ]---This is used when you intend on using only if conditional statement</font>**\n",
    "\n",
    "**<font size=\"3\">(2) [expression if condition else condition for item in iterable ]---This is used when you intend on using the if and else statement</font>**\n",
    "where:\n",
    "* expression is the computation you want to do e.g x+x or x-y\n",
    "* For is our normal for loop\n",
    "* item is the object in the expression like x or y\n",
    "* if/else are conditional statements\n",
    "* iterable is a list,set or any data structure that can return its element one at a tim"
   ]
  },
  {
   "cell_type": "markdown",
   "metadata": {},
   "source": [
    "You might be wondering why do we need list comprehensions when we can just use for loop. Let's look at some examples of why list comprehension is much faster and code friendly than for loop in creating new list;"
   ]
  },
  {
   "cell_type": "markdown",
   "metadata": {},
   "source": [
    "#### Using the first syntax with only the if statement"
   ]
  },
  {
   "cell_type": "markdown",
   "metadata": {},
   "source": [
    "Example 1<br />\n",
    "Create a new list that will have all the common values in list1 and list2<br /><br />\n",
    "list1=[1,2,3,\"a\",\"hello\",\"friends\",5,6]<br /><br />\n",
    "list2=[\"b\",\"a\",\"c\",5,2,\"simple\"]"
   ]
  },
  {
   "cell_type": "code",
   "execution_count": 6,
   "metadata": {},
   "outputs": [
    {
     "name": "stdout",
     "output_type": "stream",
     "text": [
      "[2, 'a', 5]\n"
     ]
    }
   ],
   "source": [
    "# Using for loop to create a new list\n",
    "list1=[1,2,3,\"a\",\"hello\",\"friends\",5,6]\n",
    "list2=[\"b\",\"a\",\"c\",5,2,\"simple\"]\n",
    "\n",
    "New_list = []\n",
    "for x in list1:\n",
    "    for y in list2:\n",
    "        if x ==y:\n",
    "            New_list.append(x)\n",
    "print(New_list)  # It printed out the common values,yay!!! \n",
    "# But it used 5 lines of code"
   ]
  },
  {
   "cell_type": "code",
   "execution_count": 17,
   "metadata": {},
   "outputs": [
    {
     "data": {
      "text/plain": [
       "[2, 'a', 5]"
      ]
     },
     "execution_count": 17,
     "metadata": {},
     "output_type": "execute_result"
    }
   ],
   "source": [
    "# Using list comprehension for the same problem\n",
    "New_list=[x for x in list1 for y in list2 if x==y]\n",
    "# we use two for statement here as a way of nesting the for loop. If statement says print only if the values in x and y are equal \n",
    "New_list # Just one line of code produces the same result. It looks more friendly to the eyes and more concise"
   ]
  },
  {
   "cell_type": "markdown",
   "metadata": {},
   "source": [
    "Example 2<br />\n",
    "Create a new list of even numbers between a range of 1-35"
   ]
  },
  {
   "cell_type": "code",
   "execution_count": 14,
   "metadata": {},
   "outputs": [
    {
     "name": "stdout",
     "output_type": "stream",
     "text": [
      "[2, 4, 6, 8, 10, 12, 14, 16, 18, 20, 22, 24, 26, 28, 30, 32, 34]\n"
     ]
    }
   ],
   "source": [
    "# Using for loop\n",
    "even=[]\n",
    "for x in range(1,35):\n",
    "    if x%2==0:\n",
    "        even.append(x)\n",
    "print(even)"
   ]
  },
  {
   "cell_type": "code",
   "execution_count": 15,
   "metadata": {},
   "outputs": [
    {
     "data": {
      "text/plain": [
       "[2, 4, 6, 8, 10, 12, 14, 16, 18, 20, 22, 24, 26, 28, 30, 32, 34]"
      ]
     },
     "execution_count": 15,
     "metadata": {},
     "output_type": "execute_result"
    }
   ],
   "source": [
    "# Using list comprehension\n",
    "even=[x for x in range(1,35) if x%2==0]\n",
    "even # The same list but in one line of code. Not too hard,right?"
   ]
  },
  {
   "cell_type": "markdown",
   "metadata": {},
   "source": [
    "Example 3<br />\n",
    "Create a new list from the numbers in the range of 1-100 if they are divisible by 2 and 7"
   ]
  },
  {
   "cell_type": "code",
   "execution_count": 19,
   "metadata": {},
   "outputs": [
    {
     "data": {
      "text/plain": [
       "[14, 28, 42, 56, 70, 84, 98]"
      ]
     },
     "execution_count": 19,
     "metadata": {},
     "output_type": "execute_result"
    }
   ],
   "source": [
    "New_list=[x for x in range(1,100) if x%2==0 if x%7==0]\n",
    "New_list #It prints out only the values that can be divisible by 2 and 7"
   ]
  },
  {
   "cell_type": "markdown",
   "metadata": {},
   "source": [
    "#### Using the second syntax of list comprehension<br />\n",
    "[expression if condition else condition for item in iterable ]"
   ]
  },
  {
   "cell_type": "markdown",
   "metadata": {},
   "source": [
    "Example 1<br />\n",
    "Create a new list from list3 that prints out even if the value is divisible by 2, otherwise it should print odd"
   ]
  },
  {
   "cell_type": "code",
   "execution_count": 22,
   "metadata": {},
   "outputs": [
    {
     "data": {
      "text/plain": [
       "['odd',\n",
       " 'odd',\n",
       " 'even',\n",
       " 'odd',\n",
       " 'even',\n",
       " 'odd',\n",
       " 'even',\n",
       " 'odd',\n",
       " 'even',\n",
       " 'odd',\n",
       " 'even',\n",
       " 'odd',\n",
       " 'even',\n",
       " 'odd',\n",
       " 'odd']"
      ]
     },
     "execution_count": 22,
     "metadata": {},
     "output_type": "execute_result"
    }
   ],
   "source": [
    "list3=[1,3,4,5,6,7,2,3,6,7,8,9,90,123,345]\n",
    "[\"even\" if x%2==0 else \"odd\" for x in list3]\n"
   ]
  },
  {
   "cell_type": "markdown",
   "metadata": {},
   "source": [
    "Example 2<br />\n"
   ]
  },
  {
   "cell_type": "code",
   "execution_count": 67,
   "metadata": {},
   "outputs": [
    {
     "data": {
      "text/plain": [
       "['March', 'April', 'May', 'June', 'July']"
      ]
     },
     "execution_count": 67,
     "metadata": {},
     "output_type": "execute_result"
    }
   ],
   "source": [
    "years = [['January', 'February', 'March'], ['April', 'May', 'June'], ['July', 'August', 'September'],['October','November','December']]\n",
    "# Nested List comprehension with an if condition\n",
    "[years for sublist in years for years in sublist if len(years) <= 5 ]\n",
    "# Creating a new list from a nested list if length of values is lesser than 5"
   ]
  },
  {
   "cell_type": "code",
   "execution_count": 68,
   "metadata": {},
   "outputs": [
    {
     "data": {
      "text/plain": [
       "['Too long',\n",
       " 'Too long',\n",
       " 'March',\n",
       " 'April',\n",
       " 'May',\n",
       " 'June',\n",
       " 'July',\n",
       " 'Too long',\n",
       " 'Too long',\n",
       " 'Too long',\n",
       " 'Too long',\n",
       " 'Too long']"
      ]
     },
     "execution_count": 68,
     "metadata": {},
     "output_type": "execute_result"
    }
   ],
   "source": [
    "years = ['January', 'February', 'March','April', 'May', 'June','July', 'August', 'September','October','November','December']\n",
    "[years if len(years)<=5 else \"Too long\" for years in years ]"
   ]
  },
  {
   "cell_type": "markdown",
   "metadata": {},
   "source": [
    " Example 3<br />\n",
    " Create a new list that will add 1 to every value greater than 5 between a range of 1-20 and subtract 1 from every value lesser than 5 from that range"
   ]
  },
  {
   "cell_type": "code",
   "execution_count": 69,
   "metadata": {},
   "outputs": [
    {
     "data": {
      "text/plain": [
       "[0, 1, 2, 3, 4, 7, 8, 9, 10, 11, 12, 13, 14, 15, 16, 17, 18, 19, 20]"
      ]
     },
     "execution_count": 69,
     "metadata": {},
     "output_type": "execute_result"
    }
   ],
   "source": [
    "[x+1 if x>5 else x-1 for x in range(1,20)]"
   ]
  },
  {
   "cell_type": "markdown",
   "metadata": {},
   "source": [
    "### Advanced list comprehension\n",
    "I call this advanced because this shows how to create a new list from a dictionary and how we can use list comprehension to work on our dataframe during exploratory analysis.<br /><br />\n",
    "The syntax is the same as the intermediate list comprehension\n",
    "\n"
   ]
  },
  {
   "cell_type": "markdown",
   "metadata": {},
   "source": [
    "example 1<br />\n",
    "\n",
    "When creating a new dictionary from a list, the term is called dict comprehension instead. Note: The curly bracket is used (instead of square bracket) for dict comprehension because we are creating a new dictionary. "
   ]
  },
  {
   "cell_type": "code",
   "execution_count": 76,
   "metadata": {},
   "outputs": [
    {
     "data": {
      "text/plain": [
       "{'1': 1, '2': 2, '3': 3, '4': 4, '5': 5}"
      ]
     },
     "execution_count": 76,
     "metadata": {},
     "output_type": "execute_result"
    }
   ],
   "source": [
    "\n",
    "{str(i):i for i in [1,2,3,4,5]} # Notice the curly bracket\n",
    "\n",
    "# We have successfully created a dictionary"
   ]
  },
  {
   "cell_type": "markdown",
   "metadata": {},
   "source": [
    "Example 2<br />\n"
   ]
  },
  {
   "cell_type": "code",
   "execution_count": 79,
   "metadata": {},
   "outputs": [
    {
     "data": {
      "text/plain": [
       "{'subject': 'Xena', 'Food': 'Xena', 'Fruit': 'Xena', 'Movie': 'Xena'}"
      ]
     },
     "execution_count": 79,
     "metadata": {},
     "output_type": "execute_result"
    }
   ],
   "source": [
    "a=[\"subject\",\"Food\",\"Fruit\",\"Movie\"]\n",
    "b=[\"Mathematics\",\"Pasta\",\"Apple\",\"Xena\"]\n",
    "{x:y for x in a for y in b}  # Created a new dict from two existing list"
   ]
  },
  {
   "cell_type": "markdown",
   "metadata": {},
   "source": [
    "Example 3"
   ]
  },
  {
   "cell_type": "code",
   "execution_count": 85,
   "metadata": {},
   "outputs": [
    {
     "data": {
      "text/plain": [
       "{'mathematics': 0, 'Physics': 1, 'Chemistry': 2, 'Geology': 3}"
      ]
     },
     "execution_count": 85,
     "metadata": {},
     "output_type": "execute_result"
    }
   ],
   "source": [
    "subjects=[\"mathematics\",\"Physics\",\"Chemistry\",\"Geology\"]\n",
    "subject_dict={x:y for y,x in enumerate(subjects)}\n",
    "subject_dict\n",
    "# Creating a new dict using enumerate function. Enumerate function gives a numbering of iterations"
   ]
  },
  {
   "cell_type": "code",
   "execution_count": 87,
   "metadata": {},
   "outputs": [
    {
     "data": {
      "text/plain": [
       "{0: 'mathematics', 1: 'Physics', 2: 'Chemistry', 3: 'Geology'}"
      ]
     },
     "execution_count": 87,
     "metadata": {},
     "output_type": "execute_result"
    }
   ],
   "source": [
    "{y:x for x,y in subject_dict.items()}"
   ]
  },
  {
   "cell_type": "markdown",
   "metadata": {},
   "source": [
    "#### Using list comprehension with a function"
   ]
  },
  {
   "cell_type": "code",
   "execution_count": 90,
   "metadata": {},
   "outputs": [],
   "source": [
    "def func(x):\n",
    "    return x**2"
   ]
  },
  {
   "cell_type": "code",
   "execution_count": 93,
   "metadata": {},
   "outputs": [
    {
     "data": {
      "text/plain": [
       "[1, 4, 9, 16]"
      ]
     },
     "execution_count": 93,
     "metadata": {},
     "output_type": "execute_result"
    }
   ],
   "source": [
    "[func(x) for x in [1,2,3,4]] # You can use any function for the list comprehension"
   ]
  },
  {
   "cell_type": "markdown",
   "metadata": {},
   "source": [
    "#### Using List Comprehension on DataFrame"
   ]
  },
  {
   "cell_type": "code",
   "execution_count": 127,
   "metadata": {},
   "outputs": [],
   "source": [
    "import numpy as np\n",
    "import pandas as pd\n",
    "a={\"Name\":[\"Mary\",\"Ada\",\"Jonathan\",\"Adrian\"],\n",
    "  \"age\":[25,20,37,50],\n",
    "   \"Occupation\":[\"Doctor\",\"Data Scientist\",np.nan,\"Soldier\"],\n",
    "   \"Gender\":[\"female\",np.nan,np.nan,np.nan]\n",
    "  }"
   ]
  },
  {
   "cell_type": "code",
   "execution_count": 178,
   "metadata": {},
   "outputs": [
    {
     "data": {
      "text/html": [
       "<div>\n",
       "<style scoped>\n",
       "    .dataframe tbody tr th:only-of-type {\n",
       "        vertical-align: middle;\n",
       "    }\n",
       "\n",
       "    .dataframe tbody tr th {\n",
       "        vertical-align: top;\n",
       "    }\n",
       "\n",
       "    .dataframe thead th {\n",
       "        text-align: right;\n",
       "    }\n",
       "</style>\n",
       "<table border=\"1\" class=\"dataframe\">\n",
       "  <thead>\n",
       "    <tr style=\"text-align: right;\">\n",
       "      <th></th>\n",
       "      <th>Name</th>\n",
       "      <th>age</th>\n",
       "      <th>Occupation</th>\n",
       "      <th>Gender</th>\n",
       "    </tr>\n",
       "  </thead>\n",
       "  <tbody>\n",
       "    <tr>\n",
       "      <th>0</th>\n",
       "      <td>Mary</td>\n",
       "      <td>25</td>\n",
       "      <td>Doctor</td>\n",
       "      <td>female</td>\n",
       "    </tr>\n",
       "    <tr>\n",
       "      <th>1</th>\n",
       "      <td>Ada</td>\n",
       "      <td>20</td>\n",
       "      <td>Data Scientist</td>\n",
       "      <td>NaN</td>\n",
       "    </tr>\n",
       "    <tr>\n",
       "      <th>2</th>\n",
       "      <td>Jonathan</td>\n",
       "      <td>37</td>\n",
       "      <td>NaN</td>\n",
       "      <td>NaN</td>\n",
       "    </tr>\n",
       "    <tr>\n",
       "      <th>3</th>\n",
       "      <td>Adrian</td>\n",
       "      <td>50</td>\n",
       "      <td>Soldier</td>\n",
       "      <td>NaN</td>\n",
       "    </tr>\n",
       "  </tbody>\n",
       "</table>\n",
       "</div>"
      ],
      "text/plain": [
       "       Name  age      Occupation  Gender\n",
       "0      Mary   25          Doctor  female\n",
       "1       Ada   20  Data Scientist     NaN\n",
       "2  Jonathan   37             NaN     NaN\n",
       "3    Adrian   50         Soldier     NaN"
      ]
     },
     "execution_count": 178,
     "metadata": {},
     "output_type": "execute_result"
    }
   ],
   "source": [
    "data=pd.DataFrame(a)\n",
    "data"
   ]
  },
  {
   "cell_type": "markdown",
   "metadata": {},
   "source": [
    "Example 1<br />\n",
    "Capitalize all the Names"
   ]
  },
  {
   "cell_type": "code",
   "execution_count": 179,
   "metadata": {},
   "outputs": [],
   "source": [
    "data[\"Name\"]=[i.upper() for i in data[\"Name\"]]"
   ]
  },
  {
   "cell_type": "code",
   "execution_count": 130,
   "metadata": {},
   "outputs": [
    {
     "data": {
      "text/html": [
       "<div>\n",
       "<style scoped>\n",
       "    .dataframe tbody tr th:only-of-type {\n",
       "        vertical-align: middle;\n",
       "    }\n",
       "\n",
       "    .dataframe tbody tr th {\n",
       "        vertical-align: top;\n",
       "    }\n",
       "\n",
       "    .dataframe thead th {\n",
       "        text-align: right;\n",
       "    }\n",
       "</style>\n",
       "<table border=\"1\" class=\"dataframe\">\n",
       "  <thead>\n",
       "    <tr style=\"text-align: right;\">\n",
       "      <th></th>\n",
       "      <th>Name</th>\n",
       "      <th>age</th>\n",
       "      <th>Occupation</th>\n",
       "      <th>Gender</th>\n",
       "    </tr>\n",
       "  </thead>\n",
       "  <tbody>\n",
       "    <tr>\n",
       "      <th>0</th>\n",
       "      <td>MARY</td>\n",
       "      <td>25</td>\n",
       "      <td>Doctor</td>\n",
       "      <td>female</td>\n",
       "    </tr>\n",
       "    <tr>\n",
       "      <th>1</th>\n",
       "      <td>ADA</td>\n",
       "      <td>20</td>\n",
       "      <td>Data Scientist</td>\n",
       "      <td>NaN</td>\n",
       "    </tr>\n",
       "    <tr>\n",
       "      <th>2</th>\n",
       "      <td>JONATHAN</td>\n",
       "      <td>37</td>\n",
       "      <td>NaN</td>\n",
       "      <td>NaN</td>\n",
       "    </tr>\n",
       "    <tr>\n",
       "      <th>3</th>\n",
       "      <td>ADRIAN</td>\n",
       "      <td>50</td>\n",
       "      <td>Soldier</td>\n",
       "      <td>NaN</td>\n",
       "    </tr>\n",
       "  </tbody>\n",
       "</table>\n",
       "</div>"
      ],
      "text/plain": [
       "       Name  age      Occupation  Gender\n",
       "0      MARY   25          Doctor  female\n",
       "1       ADA   20  Data Scientist     NaN\n",
       "2  JONATHAN   37             NaN     NaN\n",
       "3    ADRIAN   50         Soldier     NaN"
      ]
     },
     "execution_count": 130,
     "metadata": {},
     "output_type": "execute_result"
    }
   ],
   "source": [
    "data"
   ]
  },
  {
   "cell_type": "markdown",
   "metadata": {},
   "source": [
    "EXAMPLE 2<br />\n",
    "Add 10 to all the ages"
   ]
  },
  {
   "cell_type": "code",
   "execution_count": 180,
   "metadata": {},
   "outputs": [],
   "source": [
    "data[\"age\"]=[i+10 for i in data[\"age\"]]"
   ]
  },
  {
   "cell_type": "code",
   "execution_count": 181,
   "metadata": {},
   "outputs": [
    {
     "data": {
      "text/html": [
       "<div>\n",
       "<style scoped>\n",
       "    .dataframe tbody tr th:only-of-type {\n",
       "        vertical-align: middle;\n",
       "    }\n",
       "\n",
       "    .dataframe tbody tr th {\n",
       "        vertical-align: top;\n",
       "    }\n",
       "\n",
       "    .dataframe thead th {\n",
       "        text-align: right;\n",
       "    }\n",
       "</style>\n",
       "<table border=\"1\" class=\"dataframe\">\n",
       "  <thead>\n",
       "    <tr style=\"text-align: right;\">\n",
       "      <th></th>\n",
       "      <th>Name</th>\n",
       "      <th>age</th>\n",
       "      <th>Occupation</th>\n",
       "      <th>Gender</th>\n",
       "    </tr>\n",
       "  </thead>\n",
       "  <tbody>\n",
       "    <tr>\n",
       "      <th>0</th>\n",
       "      <td>MARY</td>\n",
       "      <td>35</td>\n",
       "      <td>Doctor</td>\n",
       "      <td>female</td>\n",
       "    </tr>\n",
       "    <tr>\n",
       "      <th>1</th>\n",
       "      <td>ADA</td>\n",
       "      <td>30</td>\n",
       "      <td>Data Scientist</td>\n",
       "      <td>NaN</td>\n",
       "    </tr>\n",
       "    <tr>\n",
       "      <th>2</th>\n",
       "      <td>JONATHAN</td>\n",
       "      <td>47</td>\n",
       "      <td>NaN</td>\n",
       "      <td>NaN</td>\n",
       "    </tr>\n",
       "    <tr>\n",
       "      <th>3</th>\n",
       "      <td>ADRIAN</td>\n",
       "      <td>60</td>\n",
       "      <td>Soldier</td>\n",
       "      <td>NaN</td>\n",
       "    </tr>\n",
       "  </tbody>\n",
       "</table>\n",
       "</div>"
      ],
      "text/plain": [
       "       Name  age      Occupation  Gender\n",
       "0      MARY   35          Doctor  female\n",
       "1       ADA   30  Data Scientist     NaN\n",
       "2  JONATHAN   47             NaN     NaN\n",
       "3    ADRIAN   60         Soldier     NaN"
      ]
     },
     "execution_count": 181,
     "metadata": {},
     "output_type": "execute_result"
    }
   ],
   "source": [
    "data"
   ]
  },
  {
   "cell_type": "code",
   "execution_count": 203,
   "metadata": {},
   "outputs": [
    {
     "data": {
      "text/plain": [
       "['Occupation', 'Gender']"
      ]
     },
     "execution_count": 203,
     "metadata": {},
     "output_type": "execute_result"
    }
   ],
   "source": [
    "column_na=[column for column in data.columns if data[column].isna().sum()>=1]\n",
    "column_na"
   ]
  },
  {
   "cell_type": "code",
   "execution_count": 205,
   "metadata": {},
   "outputs": [
    {
     "data": {
      "text/html": [
       "<div>\n",
       "<style scoped>\n",
       "    .dataframe tbody tr th:only-of-type {\n",
       "        vertical-align: middle;\n",
       "    }\n",
       "\n",
       "    .dataframe tbody tr th {\n",
       "        vertical-align: top;\n",
       "    }\n",
       "\n",
       "    .dataframe thead th {\n",
       "        text-align: right;\n",
       "    }\n",
       "</style>\n",
       "<table border=\"1\" class=\"dataframe\">\n",
       "  <thead>\n",
       "    <tr style=\"text-align: right;\">\n",
       "      <th></th>\n",
       "      <th>Name</th>\n",
       "      <th>age</th>\n",
       "      <th>Occupation</th>\n",
       "      <th>Gender</th>\n",
       "      <th>Total age</th>\n",
       "    </tr>\n",
       "  </thead>\n",
       "  <tbody>\n",
       "    <tr>\n",
       "      <th>0</th>\n",
       "      <td>MARY</td>\n",
       "      <td>35</td>\n",
       "      <td>Doctor</td>\n",
       "      <td>female</td>\n",
       "      <td>35</td>\n",
       "    </tr>\n",
       "    <tr>\n",
       "      <th>1</th>\n",
       "      <td>ADA</td>\n",
       "      <td>30</td>\n",
       "      <td>Data Scientist</td>\n",
       "      <td>NaN</td>\n",
       "      <td>30</td>\n",
       "    </tr>\n",
       "    <tr>\n",
       "      <th>2</th>\n",
       "      <td>JONATHAN</td>\n",
       "      <td>47</td>\n",
       "      <td>NaN</td>\n",
       "      <td>NaN</td>\n",
       "      <td>15</td>\n",
       "    </tr>\n",
       "    <tr>\n",
       "      <th>3</th>\n",
       "      <td>ADRIAN</td>\n",
       "      <td>60</td>\n",
       "      <td>Soldier</td>\n",
       "      <td>NaN</td>\n",
       "      <td>20</td>\n",
       "    </tr>\n",
       "  </tbody>\n",
       "</table>\n",
       "</div>"
      ],
      "text/plain": [
       "       Name  age      Occupation  Gender  Total age\n",
       "0      MARY   35          Doctor  female         35\n",
       "1       ADA   30  Data Scientist     NaN         30\n",
       "2  JONATHAN   47             NaN     NaN         15\n",
       "3    ADRIAN   60         Soldier     NaN         20"
      ]
     },
     "execution_count": 205,
     "metadata": {},
     "output_type": "execute_result"
    }
   ],
   "source": [
    "data[\"Total age\"]=[i if i<40 else i//3 for i in data[\"age\"]]\n",
    "data"
   ]
  },
  {
   "cell_type": "markdown",
   "metadata": {},
   "source": [
    "Go through it one more time and you can be sure to get beyond the basics of list comprehension. Till some other time"
   ]
  }
 ],
 "metadata": {
  "kernelspec": {
   "display_name": "Python 3",
   "language": "python",
   "name": "python3"
  },
  "language_info": {
   "codemirror_mode": {
    "name": "ipython",
    "version": 3
   },
   "file_extension": ".py",
   "mimetype": "text/x-python",
   "name": "python",
   "nbconvert_exporter": "python",
   "pygments_lexer": "ipython3",
   "version": "3.8.5"
  }
 },
 "nbformat": 4,
 "nbformat_minor": 4
}
